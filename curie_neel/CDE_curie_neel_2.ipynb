{
 "cells": [
  {
   "cell_type": "code",
   "execution_count": 6,
   "metadata": {},
   "outputs": [],
   "source": [
    "\n",
    "from chemdataextractor_neel_curie import Document\n",
    "from chemdataextractor_neel_curie.model import Compound\n",
    "from chemdataextractor_neel_curie.doc import Paragraph, Heading, Title"
   ]
  },
  {
   "cell_type": "markdown",
   "metadata": {},
   "source": [
    "# Read a new doc"
   ]
  },
  {
   "cell_type": "code",
   "execution_count": 7,
   "metadata": {},
   "outputs": [
    {
     "name": "stdout",
     "output_type": "stream",
     "text": [
      "Run Time:  11.376384348999977  seconds\n"
     ]
    }
   ],
   "source": [
    "\n",
    "import timeit\n",
    "start = timeit.default_timer()\n",
    "\n",
    "f = open('Pressure dependent magnetic, AC susceptibility and electrical properties of Nd 7 Pd 3 - RSC Advances (RSC Publishing) DOI_10.1039_C5RA07625K.html', 'rb')\n",
    "doc = Document.from_file(f)\n",
    "extracted_json = doc.records.serialize()\n",
    "\n",
    "stop = timeit.default_timer()\n",
    "print('Run Time: ', stop - start, ' seconds')  "
   ]
  },
  {
   "cell_type": "code",
   "execution_count": 8,
   "metadata": {},
   "outputs": [
    {
     "data": {
      "text/plain": [
       "[{'names': ['Allahabad 211012']},\n",
       " {'neel_temperatures': [{'value': '38', 'units': 'K'}]},\n",
       " {'names': ['Sm7Rh3']},\n",
       " {'names': ['Gd7Rh3']},\n",
       " {'names': ['Gd7Pd3']},\n",
       " {'names': ['argon']},\n",
       " {'names': ['Cu']},\n",
       " {'curie_temperatures': [{'value': '34', 'units': 'K'}]},\n",
       " {'names': ['Nd3+']},\n",
       " {'neel_temperatures': [{'value': '12', 'units': 'K'}]},\n",
       " {'neel_temperatures': [{'value': '28', 'units': 'K'}]},\n",
       " {'neel_temperatures': [{'value': '32', 'units': 'K'}]},\n",
       " {'names': ['Ti+1']},\n",
       " {'names': ['Ti']},\n",
       " {'names': ['Hf']},\n",
       " {'curie_temperatures': [{'value': '34', 'units': 'K'}]},\n",
       " {'names': ['transition metal']},\n",
       " {'names': ['Fe7Th3']},\n",
       " {'names': ['− 1 + 2tγ'],\n",
       "  'curie_temperatures': [{'value': '34', 'units': 'K'}]},\n",
       " {'names': ['H']},\n",
       " {'names': ['Nd7Pd3'], 'roles': ['data of']}]"
      ]
     },
     "execution_count": 8,
     "metadata": {},
     "output_type": "execute_result"
    }
   ],
   "source": [
    "extracted_json"
   ]
  },
  {
   "cell_type": "code",
   "execution_count": 4,
   "metadata": {},
   "outputs": [],
   "source": [
    "import glob, os\n",
    "os.chdir(\"./curie_neel_html\") #uncomment/comment if path is not right"
   ]
  },
  {
   "cell_type": "markdown",
   "metadata": {},
   "source": [
    "# Read multiple new docs"
   ]
  },
  {
   "cell_type": "code",
   "execution_count": 9,
   "metadata": {},
   "outputs": [
    {
     "ename": "NameError",
     "evalue": "name 'glob' is not defined",
     "output_type": "error",
     "traceback": [
      "\u001b[0;31m---------------------------------------------------------------------------\u001b[0m",
      "\u001b[0;31mNameError\u001b[0m                                 Traceback (most recent call last)",
      "\u001b[0;32m<ipython-input-9-cb3e415fd810>\u001b[0m in \u001b[0;36m<module>\u001b[0;34m\u001b[0m\n\u001b[1;32m      4\u001b[0m \u001b[0;31m# run all papers in curie_neel_html foler\u001b[0m\u001b[0;34m\u001b[0m\u001b[0;34m\u001b[0m\u001b[0;34m\u001b[0m\u001b[0m\n\u001b[1;32m      5\u001b[0m \u001b[0mi\u001b[0m \u001b[0;34m=\u001b[0m \u001b[0;36m1\u001b[0m\u001b[0;34m\u001b[0m\u001b[0;34m\u001b[0m\u001b[0m\n\u001b[0;32m----> 6\u001b[0;31m \u001b[0;32mfor\u001b[0m \u001b[0mfile\u001b[0m \u001b[0;32min\u001b[0m \u001b[0mglob\u001b[0m\u001b[0;34m.\u001b[0m\u001b[0mglob\u001b[0m\u001b[0;34m(\u001b[0m\u001b[0;34m\"*.html\"\u001b[0m\u001b[0;34m)\u001b[0m\u001b[0;34m:\u001b[0m\u001b[0;34m\u001b[0m\u001b[0;34m\u001b[0m\u001b[0m\n\u001b[0m\u001b[1;32m      7\u001b[0m \u001b[0;34m\u001b[0m\u001b[0m\n\u001b[1;32m      8\u001b[0m     \u001b[0;31m#open file\u001b[0m\u001b[0;34m\u001b[0m\u001b[0;34m\u001b[0m\u001b[0;34m\u001b[0m\u001b[0m\n",
      "\u001b[0;31mNameError\u001b[0m: name 'glob' is not defined"
     ]
    }
   ],
   "source": [
    "all_json = []\n",
    "start = timeit.default_timer()\n",
    "\n",
    "# run all papers in curie_neel_html foler\n",
    "i = 1\n",
    "for file in glob.glob(\"*.html\"):\n",
    "    \n",
    "    #open file\n",
    "    f = open(file, 'rb')\n",
    "    doc = Document.from_file(f)\n",
    "    \n",
    "    #extract records\n",
    "    extracted_json = doc.records.serialize()\n",
    "    all_json.append(extracted_json)\n",
    "    role_ls = [dc for dc in extracted_json if ('roles' in dc) or ('curie_temperatures' in dc) or ('neel_temperatures' in dc)]\n",
    "    \n",
    "    #extract chem entity\n",
    "    titles = [str(t) for t in doc[:5] if isinstance(t, Title)]\n",
    "    title_cem = Document(Paragraph(str(titles[0]))).records.serialize()\n",
    "    \n",
    "    #print\n",
    "    print(f'{i}.\\nfilename: {file}')\n",
    "    print(f'chemical compound from title: {title_cem}\\n')\n",
    "    \n",
    "    for r in role_ls:\n",
    "        print(r)\n",
    "    print(\"----------------------------\")\n",
    "    i += 1\n",
    "    \n",
    "stop = timeit.default_timer()\n",
    "print('Run Time: ', stop - start, ' seconds')  "
   ]
  },
  {
   "cell_type": "code",
   "execution_count": null,
   "metadata": {},
   "outputs": [],
   "source": []
  }
 ],
 "metadata": {
  "kernelspec": {
   "display_name": "Python 3",
   "language": "python",
   "name": "python3"
  },
  "language_info": {
   "codemirror_mode": {
    "name": "ipython",
    "version": 3
   },
   "file_extension": ".py",
   "mimetype": "text/x-python",
   "name": "python",
   "nbconvert_exporter": "python",
   "pygments_lexer": "ipython3",
   "version": "3.8.5"
  }
 },
 "nbformat": 4,
 "nbformat_minor": 4
}
