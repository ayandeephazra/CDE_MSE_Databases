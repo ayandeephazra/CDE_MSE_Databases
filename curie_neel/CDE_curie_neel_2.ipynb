{
 "cells": [
  {
   "cell_type": "code",
   "execution_count": 1,
   "metadata": {},
   "outputs": [],
   "source": [
    "\n",
    "from chemdataextractor_neel_curie import Document\n",
    "from chemdataextractor_neel_curie.model import Compound\n",
    "from chemdataextractor_neel_curie.doc import Paragraph, Heading, Title"
   ]
  },
  {
   "cell_type": "markdown",
   "metadata": {},
   "source": [
    "# Read a new doc"
   ]
  },
  {
   "cell_type": "code",
   "execution_count": 2,
   "metadata": {},
   "outputs": [
    {
     "name": "stdout",
     "output_type": "stream",
     "text": [
      "Run Time:  12.171002300000001  seconds\n"
     ]
    }
   ],
   "source": [
    "\n",
    "import timeit\n",
    "start = timeit.default_timer()\n",
    "\n",
    "f = open('Pressure dependent magnetic, AC susceptibility and electrical properties of Nd 7 Pd 3 - RSC Advances (RSC Publishing) DOI_10.1039_C5RA07625K.html', 'rb')\n",
    "doc = Document.from_file(f)\n",
    "extracted_json = doc.records.serialize()\n",
    "\n",
    "stop = timeit.default_timer()\n",
    "print('Run Time: ', stop - start, ' seconds')  "
   ]
  },
  {
   "cell_type": "code",
   "execution_count": 3,
   "metadata": {},
   "outputs": [
    {
     "data": {
      "text/plain": [
       "[{'names': ['Allahabad 211012']},\n",
       " {'neel_temperatures': [{'value': '38', 'units': 'K'}]},\n",
       " {'names': ['Sm7Rh3']},\n",
       " {'names': ['Gd7Rh3']},\n",
       " {'names': ['Gd7Pd3']},\n",
       " {'names': ['argon']},\n",
       " {'names': ['Cu']},\n",
       " {'curie_temperatures': [{'value': '34', 'units': 'K'}]},\n",
       " {'names': ['Nd3+']},\n",
       " {'neel_temperatures': [{'value': '12', 'units': 'K'}]},\n",
       " {'neel_temperatures': [{'value': '28', 'units': 'K'}]},\n",
       " {'neel_temperatures': [{'value': '32', 'units': 'K'}]},\n",
       " {'names': ['Ti+1']},\n",
       " {'names': ['Ti']},\n",
       " {'names': ['Hf']},\n",
       " {'curie_temperatures': [{'value': '34', 'units': 'K'}]},\n",
       " {'names': ['transition metal']},\n",
       " {'names': ['Fe7Th3']},\n",
       " {'names': ['− 1 + 2tγ'],\n",
       "  'curie_temperatures': [{'value': '34', 'units': 'K'}]},\n",
       " {'names': ['H']},\n",
       " {'names': ['Nd7Pd3'], 'roles': ['data of']}]"
      ]
     },
     "execution_count": 3,
     "metadata": {},
     "output_type": "execute_result"
    }
   ],
   "source": [
    "extracted_json"
   ]
  },
  {
   "cell_type": "code",
   "execution_count": 4,
   "metadata": {},
   "outputs": [],
   "source": [
    "import glob, os\n",
    "os.chdir(\"./curie_neel_html\") #uncomment/comment if path is not right"
   ]
  },
  {
   "cell_type": "markdown",
   "metadata": {},
   "source": [
    "# Read multiple new docs"
   ]
  },
  {
   "cell_type": "code",
   "execution_count": 5,
   "metadata": {},
   "outputs": [
    {
     "name": "stdout",
     "output_type": "stream",
     "text": [
      "1.\n",
      "filename: A new relaxor ferroelectric, Ba 2 LaTi 2 Nb 3 O 15 - Journal of Materials Chemistry (RSC Publishing) DOI_10.1039_B204667A.html\n",
      "chemical compound from title: []\n",
      "\n",
      "{'names': ['Mappin'], 'curie_temperatures': [{'value': '200', 'units': 'K'}]}\n",
      "----------------------------\n",
      "2.\n",
      "filename: Dynamic magnetic MOFs - Chemical Society Reviews (RSC Publishing) DOI_10.1039_C2CS35278H.html\n",
      "chemical compound from title: []\n",
      "\n",
      "{'curie_temperatures': [{'value': '56', 'units': 'K'}]}\n",
      "{'neel_temperatures': [{'value': '75', 'units': 'K'}]}\n",
      "{'neel_temperatures': [{'value': '24', 'units': 'K'}]}\n",
      "{'curie_temperatures': [{'value': '9.5', 'units': 'K'}]}\n",
      "{'curie_temperatures': [{'value': '12.0', 'units': 'K'}]}\n",
      "{'curie_temperatures': [{'value': '28', 'units': 'K'}]}\n",
      "{'curie_temperatures': [{'value': '22', 'units': 'K'}]}\n",
      "{'curie_temperatures': [{'value': '19', 'units': 'K'}]}\n",
      "{'curie_temperatures': [{'value': '13', 'units': 'K'}]}\n",
      "{'curie_temperatures': [{'value': '8', 'units': 'K'}]}\n",
      "----------------------------\n",
      "3.\n",
      "filename: Multiferroism in hexagonally stabilized TmFeO 3 thin films below 120 K - Journal of Materials Chemistry C (RSC Publishing) DOI_10.1039_C4TC00461B.html\n",
      "chemical compound from title: [{'names': ['TmFeO3']}]\n",
      "\n",
      "{'names': ['Hwaseongsi 449-711'], 'neel_temperatures': [{'value': '∼120', 'units': 'K'}]}\n",
      "----------------------------\n",
      "4.\n",
      "filename: Pressure dependent magnetic, AC susceptibility and electrical properties of Nd 7 Pd 3 - RSC Advances (RSC Publishing) DOI_10.1039_C5RA07625K.html\n",
      "chemical compound from title: [{'names': ['Nd7Pd3']}]\n",
      "\n",
      "{'neel_temperatures': [{'value': '38', 'units': 'K'}]}\n",
      "{'curie_temperatures': [{'value': '34', 'units': 'K'}]}\n",
      "{'neel_temperatures': [{'value': '12', 'units': 'K'}]}\n",
      "{'neel_temperatures': [{'value': '28', 'units': 'K'}]}\n",
      "{'neel_temperatures': [{'value': '32', 'units': 'K'}]}\n",
      "{'curie_temperatures': [{'value': '34', 'units': 'K'}]}\n",
      "{'names': ['− 1 + 2tγ'], 'curie_temperatures': [{'value': '34', 'units': 'K'}]}\n",
      "{'names': ['Nd7Pd3'], 'roles': ['data of']}\n",
      "----------------------------\n",
      "5.\n",
      "filename: Syntheses and magnetic properties of Cr 2 Te 3 and CuCr 2 Te 4 nanocrystals - Chemical Communications (RSC Publishing) DOI_10.1039_C2CC32021E.html\n",
      "chemical compound from title: [{'names': ['Cr2Te3']}, {'names': ['CuCr2Te4']}]\n",
      "\n",
      "{'names': ['Cr'], 'roles': ['product']}\n",
      "{'names': ['CuCr2Te4'], 'roles': ['product']}\n",
      "{'names': ['Cr2Te3'], 'roles': ['product'], 'curie_temperatures': [{'value': '∼180', 'units': 'K'}]}\n",
      "----------------------------\n",
      "6.\n",
      "filename: Tunable ferromagnetic ordering in MoS 2 nanosheets with fluorine adsorption - Nanoscale (RSC Publishing) DOI_10.1039_C5NR00409H.html\n",
      "chemical compound from title: [{'names': ['MoS2']}, {'names': ['fluorine']}]\n",
      "\n",
      "{'names': ['fluorinated-MoS2'], 'roles': ['product'], 'curie_temperatures': [{'value': '845', 'units': 'K'}, {'value': '300', 'units': 'K'}]}\n",
      "----------------------------\n",
      "Run Time:  63.1111529  seconds\n"
     ]
    }
   ],
   "source": [
    "all_json = []\n",
    "start = timeit.default_timer()\n",
    "\n",
    "# run all papers in curie_neel_html foler\n",
    "i = 1\n",
    "for file in glob.glob(\"*.html\"):\n",
    "    \n",
    "    #open file\n",
    "    f = open(file, 'rb')\n",
    "    doc = Document.from_file(f)\n",
    "    \n",
    "    #extract records\n",
    "    extracted_json = doc.records.serialize()\n",
    "    all_json.append(extracted_json)\n",
    "    role_ls = [dc for dc in extracted_json if ('roles' in dc) or ('curie_temperatures' in dc) or ('neel_temperatures' in dc)]\n",
    "    \n",
    "    #extract chem entity\n",
    "    titles = [str(t) for t in doc[:5] if isinstance(t, Title)]\n",
    "    title_cem = Document(Paragraph(str(titles[0]))).records.serialize()\n",
    "    \n",
    "    #print\n",
    "    print(f'{i}.\\nfilename: {file}')\n",
    "    print(f'chemical compound from title: {title_cem}\\n')\n",
    "    \n",
    "    for r in role_ls:\n",
    "        print(r)\n",
    "    print(\"----------------------------\")\n",
    "    i += 1\n",
    "    \n",
    "stop = timeit.default_timer()\n",
    "print('Run Time: ', stop - start, ' seconds')  "
   ]
  },
  {
   "cell_type": "code",
   "execution_count": null,
   "metadata": {},
   "outputs": [],
   "source": []
  }
 ],
 "metadata": {
  "kernelspec": {
   "display_name": "Python 3",
   "language": "python",
   "name": "python3"
  },
  "language_info": {
   "codemirror_mode": {
    "name": "ipython",
    "version": 3
   },
   "file_extension": ".py",
   "mimetype": "text/x-python",
   "name": "python",
   "nbconvert_exporter": "python",
   "pygments_lexer": "ipython3",
   "version": "3.8.3"
  }
 },
 "nbformat": 4,
 "nbformat_minor": 4
}
