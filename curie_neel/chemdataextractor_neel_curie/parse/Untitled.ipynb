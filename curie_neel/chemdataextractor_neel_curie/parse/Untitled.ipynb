{
 "cells": [
  {
   "cell_type": "code",
   "execution_count": null,
   "id": "tamil-scientist",
   "metadata": {},
   "outputs": [],
   "source": [
    "class MyParser(BaseParser):\n",
    "    root = mp_phrase\n",
    "    def interpret(self, result, start, end):\n",
    "        compound = Coumpound \n",
    "        (bulkModulus=[\n",
    "            BulkModulus(\n",
    "            value=first(result.xpath('./mp/value/text()')),\n",
    "            units=first(result.xpath('./mp/units/text()')))\n",
    "        ])"
   ]
  }
 ],
 "metadata": {
  "kernelspec": {
   "display_name": "Python 3",
   "language": "python",
   "name": "python3"
  },
  "language_info": {
   "codemirror_mode": {
    "name": "ipython",
    "version": 3
   },
   "file_extension": ".py",
   "mimetype": "text/x-python",
   "name": "python",
   "nbconvert_exporter": "python",
   "pygments_lexer": "ipython3",
   "version": "3.8.3"
  }
 },
 "nbformat": 4,
 "nbformat_minor": 5
}
