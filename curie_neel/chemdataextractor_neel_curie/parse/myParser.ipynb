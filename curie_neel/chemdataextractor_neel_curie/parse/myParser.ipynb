{
 "cells": [
  {
   "cell_type": "code",
   "execution_count": null,
   "id": "played-trading",
   "metadata": {},
   "outputs": [],
   "source": [
    "from chemdataextractor_neel_curie import Document\n",
    "from chemdataextractor_neel_curie.model import Compound\n",
    "from chemdataextractor_neel_curie.doc import Paragraph, Heading, Title\n",
    "from chemdataextractor.scrape import Selector\n",
    "from chemdataextractor.scrape.pub.rsc import RscHtmlDocument\n",
    "\n",
    "import os\n",
    "import glob\n",
    "import timeit\n",
    "import pandas as pd\n",
    "import collections\n",
    "\n",
    "class MyParser(BaseParser):\n",
    "    root = mp_phrase\n",
    "    def interpret(self, result, start, end):\n",
    "        compound = Coumpound \n",
    "        (bulkModulus=[\n",
    "            BulkModulus(\n",
    "            value=first(result.xpath('./mp/value/text()')),\n",
    "            units=first(result.xpath('./mp/units/text()')))\n",
    "        ])\n",
    "        cem_el = first(result.xpath('./cem'))\n",
    "        if cem_el is not None:\n",
    "            compound.names = cem_el.xpath('./name/text()')\n",
    "            compound.labels = cem_el.xpath('./label/text()')\n",
    "        yield Compund\n",
    "        \n"
   ]
  }
 ],
 "metadata": {
  "kernelspec": {
   "display_name": "Python 3",
   "language": "python",
   "name": "python3"
  },
  "language_info": {
   "codemirror_mode": {
    "name": "ipython",
    "version": 3
   },
   "file_extension": ".py",
   "mimetype": "text/x-python",
   "name": "python",
   "nbconvert_exporter": "python",
   "pygments_lexer": "ipython3",
   "version": "3.8.3"
  }
 },
 "nbformat": 4,
 "nbformat_minor": 5
}
